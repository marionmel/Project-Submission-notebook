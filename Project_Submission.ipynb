{
 "cells": [
  {
   "cell_type": "code",
   "execution_count": 1,
   "id": "d9dd777b-5151-44b5-832b-5f8435896e76",
   "metadata": {},
   "outputs": [],
   "source": [
    "import pandas as pd"
   ]
  },
  {
   "cell_type": "code",
   "execution_count": 2,
   "id": "db1b3ea0-4166-4f43-b266-03eb3ebf6845",
   "metadata": {},
   "outputs": [],
   "source": [
    "# First: Load the csv file into a Pandas dataframe (df)\n",
    "\n",
    "df = pd.read_csv('results.csv')"
   ]
  },
  {
   "cell_type": "code",
   "execution_count": 3,
   "id": "6ab9625a-3cc2-4cf3-837e-e89b525a62ef",
   "metadata": {},
   "outputs": [
    {
     "name": "stdout",
     "output_type": "stream",
     "text": [
      "<class 'pandas.core.frame.DataFrame'>\n",
      "RangeIndex: 45315 entries, 0 to 45314\n",
      "Data columns (total 9 columns):\n",
      " #   Column      Non-Null Count  Dtype \n",
      "---  ------      --------------  ----- \n",
      " 0   date        45315 non-null  object\n",
      " 1   home_team   45315 non-null  object\n",
      " 2   away_team   45315 non-null  object\n",
      " 3   home_score  45315 non-null  int64 \n",
      " 4   away_score  45315 non-null  int64 \n",
      " 5   tournament  45315 non-null  object\n",
      " 6   city        45315 non-null  object\n",
      " 7   country     45315 non-null  object\n",
      " 8   neutral     45315 non-null  bool  \n",
      "dtypes: bool(1), int64(2), object(6)\n",
      "memory usage: 2.8+ MB\n"
     ]
    }
   ],
   "source": [
    "# Explore the df\n",
    "df.info()"
   ]
  },
  {
   "cell_type": "code",
   "execution_count": 4,
   "id": "940a08f8-df65-4a4c-839e-9a0c161ee689",
   "metadata": {},
   "outputs": [
    {
     "data": {
      "text/plain": [
       "1.7393136930376256"
      ]
     },
     "execution_count": 4,
     "metadata": {},
     "output_type": "execute_result"
    }
   ],
   "source": [
    "df['home_score'].mean()"
   ]
  },
  {
   "cell_type": "markdown",
   "id": "4f60cc6e-e341-4d8b-a1d5-c140f54d8f53",
   "metadata": {},
   "source": [
    "# Q1 answer: 1.7393136930376256"
   ]
  },
  {
   "cell_type": "code",
   "execution_count": 6,
   "id": "33e3e633-33d1-48f7-8657-54d32e53546c",
   "metadata": {},
   "outputs": [
    {
     "data": {
      "text/plain": [
       "1.1782412004854905"
      ]
     },
     "execution_count": 6,
     "metadata": {},
     "output_type": "execute_result"
    }
   ],
   "source": [
    "df['away_score'].mean()"
   ]
  },
  {
   "cell_type": "markdown",
   "id": "386d79ed-187b-480b-a634-d119974c27bd",
   "metadata": {},
   "source": [
    "# Q2 answer: 1.1782412004854905"
   ]
  },
  {
   "cell_type": "code",
   "execution_count": 8,
   "id": "f1aa6003-3d12-4006-8dce-f782ade5b979",
   "metadata": {},
   "outputs": [
    {
     "data": {
      "text/plain": [
       "country\n",
       "Afghanistan      7\n",
       "Albania        207\n",
       "Algeria        450\n",
       "Andorra         35\n",
       "Angola         257\n",
       "              ... \n",
       "Zambia         551\n",
       "Zanzibar        41\n",
       "Zaïre          113\n",
       "Zimbabwe       278\n",
       "Éire            12\n",
       "Name: home_score, Length: 268, dtype: int64"
      ]
     },
     "execution_count": 8,
     "metadata": {},
     "output_type": "execute_result"
    }
   ],
   "source": [
    "df.groupby(['country'])['home_score'].sum()"
   ]
  },
  {
   "cell_type": "code",
   "execution_count": 9,
   "id": "031657c0-04dd-480b-9acb-a2517130440b",
   "metadata": {},
   "outputs": [],
   "source": [
    "highest_home_score = df.groupby(['country'])['home_score'].sum()"
   ]
  },
  {
   "cell_type": "code",
   "execution_count": 10,
   "id": "2d6f5ac0-e771-44f9-8bd2-55c91dc0d876",
   "metadata": {},
   "outputs": [
    {
     "data": {
      "text/plain": [
       "'United States'"
      ]
     },
     "execution_count": 10,
     "metadata": {},
     "output_type": "execute_result"
    }
   ],
   "source": [
    "highest_home_score.idxmax()"
   ]
  },
  {
   "cell_type": "code",
   "execution_count": 11,
   "id": "133ea39a-890d-4081-9f73-93970c69e54f",
   "metadata": {},
   "outputs": [
    {
     "data": {
      "text/plain": [
       "2056"
      ]
     },
     "execution_count": 11,
     "metadata": {},
     "output_type": "execute_result"
    }
   ],
   "source": [
    "highest_home_score['United States']"
   ]
  },
  {
   "cell_type": "markdown",
   "id": "b84a761b-75b4-4ee7-b58c-604f2cdff08e",
   "metadata": {},
   "source": [
    "# Q3 answer: United States with an overall of 2056"
   ]
  },
  {
   "cell_type": "code",
   "execution_count": 13,
   "id": "8c7c7534-8ae3-47b5-ba43-dc4095dd020f",
   "metadata": {},
   "outputs": [
    {
     "data": {
      "text/plain": [
       "tournament\n",
       "Friendly                                17773\n",
       "FIFA World Cup qualification             8016\n",
       "UEFA Euro qualification                  2815\n",
       "African Cup of Nations qualification     1998\n",
       "FIFA World Cup                            964\n",
       "                                        ...  \n",
       "Copa Confraternidad                         1\n",
       "FIFA 75th Anniversary Cup                   1\n",
       "Real Madrid 75th Anniversary Cup            1\n",
       "Évence Coppée Trophy                        1\n",
       "The Other Final                             1\n",
       "Name: count, Length: 147, dtype: int64"
      ]
     },
     "execution_count": 13,
     "metadata": {},
     "output_type": "execute_result"
    }
   ],
   "source": [
    "df['tournament'].value_counts()"
   ]
  },
  {
   "cell_type": "markdown",
   "id": "46bb54ec-c774-4f10-b61a-79c327805a3c",
   "metadata": {},
   "source": [
    "# Q4 answer: 1.Friendly 2.FIFA World Cup qualification 3.UEFA Euro qualification"
   ]
  },
  {
   "cell_type": "code",
   "execution_count": 15,
   "id": "06f16779-bdd9-4100-a843-e0a9b7ee92b0",
   "metadata": {},
   "outputs": [],
   "source": [
    "fifa_df = df[df['tournament'] == 'FIFA World Cup']"
   ]
  },
  {
   "cell_type": "code",
   "execution_count": 16,
   "id": "7d9e2a73-79c6-4c52-a454-ae285d2835b7",
   "metadata": {},
   "outputs": [
    {
     "data": {
      "text/html": [
       "<div>\n",
       "<style scoped>\n",
       "    .dataframe tbody tr th:only-of-type {\n",
       "        vertical-align: middle;\n",
       "    }\n",
       "\n",
       "    .dataframe tbody tr th {\n",
       "        vertical-align: top;\n",
       "    }\n",
       "\n",
       "    .dataframe thead th {\n",
       "        text-align: right;\n",
       "    }\n",
       "</style>\n",
       "<table border=\"1\" class=\"dataframe\">\n",
       "  <thead>\n",
       "    <tr style=\"text-align: right;\">\n",
       "      <th></th>\n",
       "      <th>date</th>\n",
       "      <th>home_team</th>\n",
       "      <th>away_team</th>\n",
       "      <th>home_score</th>\n",
       "      <th>away_score</th>\n",
       "      <th>tournament</th>\n",
       "      <th>city</th>\n",
       "      <th>country</th>\n",
       "      <th>neutral</th>\n",
       "    </tr>\n",
       "  </thead>\n",
       "  <tbody>\n",
       "    <tr>\n",
       "      <th>1311</th>\n",
       "      <td>1930-07-13</td>\n",
       "      <td>Belgium</td>\n",
       "      <td>United States</td>\n",
       "      <td>0</td>\n",
       "      <td>3</td>\n",
       "      <td>FIFA World Cup</td>\n",
       "      <td>Montevideo</td>\n",
       "      <td>Uruguay</td>\n",
       "      <td>True</td>\n",
       "    </tr>\n",
       "    <tr>\n",
       "      <th>1312</th>\n",
       "      <td>1930-07-13</td>\n",
       "      <td>France</td>\n",
       "      <td>Mexico</td>\n",
       "      <td>4</td>\n",
       "      <td>1</td>\n",
       "      <td>FIFA World Cup</td>\n",
       "      <td>Montevideo</td>\n",
       "      <td>Uruguay</td>\n",
       "      <td>True</td>\n",
       "    </tr>\n",
       "    <tr>\n",
       "      <th>1313</th>\n",
       "      <td>1930-07-14</td>\n",
       "      <td>Brazil</td>\n",
       "      <td>Yugoslavia</td>\n",
       "      <td>1</td>\n",
       "      <td>2</td>\n",
       "      <td>FIFA World Cup</td>\n",
       "      <td>Montevideo</td>\n",
       "      <td>Uruguay</td>\n",
       "      <td>True</td>\n",
       "    </tr>\n",
       "    <tr>\n",
       "      <th>1314</th>\n",
       "      <td>1930-07-14</td>\n",
       "      <td>Peru</td>\n",
       "      <td>Romania</td>\n",
       "      <td>1</td>\n",
       "      <td>3</td>\n",
       "      <td>FIFA World Cup</td>\n",
       "      <td>Montevideo</td>\n",
       "      <td>Uruguay</td>\n",
       "      <td>True</td>\n",
       "    </tr>\n",
       "    <tr>\n",
       "      <th>1315</th>\n",
       "      <td>1930-07-15</td>\n",
       "      <td>Argentina</td>\n",
       "      <td>France</td>\n",
       "      <td>1</td>\n",
       "      <td>0</td>\n",
       "      <td>FIFA World Cup</td>\n",
       "      <td>Montevideo</td>\n",
       "      <td>Uruguay</td>\n",
       "      <td>True</td>\n",
       "    </tr>\n",
       "    <tr>\n",
       "      <th>...</th>\n",
       "      <td>...</td>\n",
       "      <td>...</td>\n",
       "      <td>...</td>\n",
       "      <td>...</td>\n",
       "      <td>...</td>\n",
       "      <td>...</td>\n",
       "      <td>...</td>\n",
       "      <td>...</td>\n",
       "      <td>...</td>\n",
       "    </tr>\n",
       "    <tr>\n",
       "      <th>44349</th>\n",
       "      <td>2022-12-10</td>\n",
       "      <td>England</td>\n",
       "      <td>France</td>\n",
       "      <td>1</td>\n",
       "      <td>2</td>\n",
       "      <td>FIFA World Cup</td>\n",
       "      <td>Al Khor</td>\n",
       "      <td>Qatar</td>\n",
       "      <td>True</td>\n",
       "    </tr>\n",
       "    <tr>\n",
       "      <th>44351</th>\n",
       "      <td>2022-12-13</td>\n",
       "      <td>Argentina</td>\n",
       "      <td>Croatia</td>\n",
       "      <td>3</td>\n",
       "      <td>0</td>\n",
       "      <td>FIFA World Cup</td>\n",
       "      <td>Lusail</td>\n",
       "      <td>Qatar</td>\n",
       "      <td>True</td>\n",
       "    </tr>\n",
       "    <tr>\n",
       "      <th>44352</th>\n",
       "      <td>2022-12-14</td>\n",
       "      <td>France</td>\n",
       "      <td>Morocco</td>\n",
       "      <td>2</td>\n",
       "      <td>0</td>\n",
       "      <td>FIFA World Cup</td>\n",
       "      <td>Al Khor</td>\n",
       "      <td>Qatar</td>\n",
       "      <td>True</td>\n",
       "    </tr>\n",
       "    <tr>\n",
       "      <th>44356</th>\n",
       "      <td>2022-12-17</td>\n",
       "      <td>Croatia</td>\n",
       "      <td>Morocco</td>\n",
       "      <td>2</td>\n",
       "      <td>1</td>\n",
       "      <td>FIFA World Cup</td>\n",
       "      <td>Al Rayyan</td>\n",
       "      <td>Qatar</td>\n",
       "      <td>True</td>\n",
       "    </tr>\n",
       "    <tr>\n",
       "      <th>44358</th>\n",
       "      <td>2022-12-18</td>\n",
       "      <td>Argentina</td>\n",
       "      <td>France</td>\n",
       "      <td>3</td>\n",
       "      <td>3</td>\n",
       "      <td>FIFA World Cup</td>\n",
       "      <td>Lusail</td>\n",
       "      <td>Qatar</td>\n",
       "      <td>True</td>\n",
       "    </tr>\n",
       "  </tbody>\n",
       "</table>\n",
       "<p>964 rows × 9 columns</p>\n",
       "</div>"
      ],
      "text/plain": [
       "             date  home_team      away_team  home_score  away_score  \\\n",
       "1311   1930-07-13    Belgium  United States           0           3   \n",
       "1312   1930-07-13     France         Mexico           4           1   \n",
       "1313   1930-07-14     Brazil     Yugoslavia           1           2   \n",
       "1314   1930-07-14       Peru        Romania           1           3   \n",
       "1315   1930-07-15  Argentina         France           1           0   \n",
       "...           ...        ...            ...         ...         ...   \n",
       "44349  2022-12-10    England         France           1           2   \n",
       "44351  2022-12-13  Argentina        Croatia           3           0   \n",
       "44352  2022-12-14     France        Morocco           2           0   \n",
       "44356  2022-12-17    Croatia        Morocco           2           1   \n",
       "44358  2022-12-18  Argentina         France           3           3   \n",
       "\n",
       "           tournament        city  country  neutral  \n",
       "1311   FIFA World Cup  Montevideo  Uruguay     True  \n",
       "1312   FIFA World Cup  Montevideo  Uruguay     True  \n",
       "1313   FIFA World Cup  Montevideo  Uruguay     True  \n",
       "1314   FIFA World Cup  Montevideo  Uruguay     True  \n",
       "1315   FIFA World Cup  Montevideo  Uruguay     True  \n",
       "...               ...         ...      ...      ...  \n",
       "44349  FIFA World Cup     Al Khor    Qatar     True  \n",
       "44351  FIFA World Cup      Lusail    Qatar     True  \n",
       "44352  FIFA World Cup     Al Khor    Qatar     True  \n",
       "44356  FIFA World Cup   Al Rayyan    Qatar     True  \n",
       "44358  FIFA World Cup      Lusail    Qatar     True  \n",
       "\n",
       "[964 rows x 9 columns]"
      ]
     },
     "execution_count": 16,
     "metadata": {},
     "output_type": "execute_result"
    }
   ],
   "source": [
    "fifa_df"
   ]
  },
  {
   "cell_type": "code",
   "execution_count": 17,
   "id": "e56e5875-44bd-495c-9fd5-160a20cc8b87",
   "metadata": {},
   "outputs": [
    {
     "name": "stderr",
     "output_type": "stream",
     "text": [
      "C:\\Users\\mario\\AppData\\Local\\Temp\\ipykernel_14008\\1698103778.py:1: SettingWithCopyWarning: \n",
      "A value is trying to be set on a copy of a slice from a DataFrame.\n",
      "Try using .loc[row_indexer,col_indexer] = value instead\n",
      "\n",
      "See the caveats in the documentation: https://pandas.pydata.org/pandas-docs/stable/user_guide/indexing.html#returning-a-view-versus-a-copy\n",
      "  fifa_df.loc[:, 'total_score'] = fifa_df['home_score'] + fifa_df['away_score']\n"
     ]
    }
   ],
   "source": [
    "fifa_df.loc[:, 'total_score'] = fifa_df['home_score'] + fifa_df['away_score']"
   ]
  },
  {
   "cell_type": "code",
   "execution_count": 18,
   "id": "43136337-64e2-4a33-b9aa-eea225687196",
   "metadata": {},
   "outputs": [],
   "source": [
    "country_scores = fifa_df.groupby('country')['total_score'].sum()"
   ]
  },
  {
   "cell_type": "code",
   "execution_count": 19,
   "id": "d235c617-4a25-4bf9-ba06-83bfdcd4d38e",
   "metadata": {},
   "outputs": [],
   "source": [
    "top_country = country_scores.idxmax()"
   ]
  },
  {
   "cell_type": "code",
   "execution_count": 20,
   "id": "f900af9b-7764-4100-989c-ff7d3c848c78",
   "metadata": {},
   "outputs": [],
   "source": [
    "top_score = country_scores.max()"
   ]
  },
  {
   "cell_type": "code",
   "execution_count": 21,
   "id": "24ce0215-b74d-4474-8e43-0e865db34c79",
   "metadata": {},
   "outputs": [
    {
     "name": "stdout",
     "output_type": "stream",
     "text": [
      "Brazil\n"
     ]
    }
   ],
   "source": [
    "print(top_country)"
   ]
  },
  {
   "cell_type": "markdown",
   "id": "e343a66a-2a6e-42f9-a80b-8b17bae1a6e3",
   "metadata": {},
   "source": [
    "# Q5 answer: The country with the highest overall FIFA Worl Cup goals is Brazil"
   ]
  }
 ],
 "metadata": {
  "kernelspec": {
   "display_name": "Python 3 (ipykernel)",
   "language": "python",
   "name": "python3"
  },
  "language_info": {
   "codemirror_mode": {
    "name": "ipython",
    "version": 3
   },
   "file_extension": ".py",
   "mimetype": "text/x-python",
   "name": "python",
   "nbconvert_exporter": "python",
   "pygments_lexer": "ipython3",
   "version": "3.12.4"
  }
 },
 "nbformat": 4,
 "nbformat_minor": 5
}
